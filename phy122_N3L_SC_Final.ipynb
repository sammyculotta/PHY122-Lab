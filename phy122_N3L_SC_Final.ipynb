{
  "nbformat": 4,
  "nbformat_minor": 0,
  "metadata": {
    "colab": {
      "provenance": [],
      "include_colab_link": true
    },
    "kernelspec": {
      "name": "python3",
      "display_name": "Python 3"
    },
    "language_info": {
      "name": "python"
    }
  },
  "cells": [
    {
      "cell_type": "markdown",
      "metadata": {
        "id": "view-in-github",
        "colab_type": "text"
      },
      "source": [
        "<a href=\"https://colab.research.google.com/github/sammyculotta/PHY122-Lab/blob/main/phy122_N3L_SC_Final.ipynb\" target=\"_parent\"><img src=\"https://colab.research.google.com/assets/colab-badge.svg\" alt=\"Open In Colab\"/></a>"
      ]
    },
    {
      "cell_type": "markdown",
      "source": [
        "PHY-122 Lab 3\n",
        "\n",
        "Michael Culotta\n",
        "\n",
        "04/06/25"
      ],
      "metadata": {
        "id": "t0Doe3CBQ3Ci"
      }
    },
    {
      "cell_type": "markdown",
      "source": [
        "#  <font color='Red'> **Import Necessary Modules** </font>"
      ],
      "metadata": {
        "id": "ODKTQJak3iE-"
      }
    },
    {
      "cell_type": "code",
      "source": [
        "import numpy as np\n",
        "import matplotlib.pyplot as plt\n",
        "from numpy import arange, array, zeros\n",
        "from numpy.linalg import norm\n",
        "\n",
        "np.set_printoptions(precision=4, linewidth=200, threshold=2000, suppress=True)\n",
        "\n",
        "π =  np.pi"
      ],
      "metadata": {
        "id": "eG_AnzCN3iy5"
      },
      "execution_count": 2,
      "outputs": []
    },
    {
      "cell_type": "markdown",
      "source": [
        "###  <font color='Green'> Necessary Defintions. </font>"
      ],
      "metadata": {
        "id": "v5m-1sNOQ4k9"
      }
    },
    {
      "cell_type": "code",
      "source": [
        "###\n",
        "def rotation_xy(θ):\n",
        "    \"\"\"\n",
        "    GIVEN: θ (in degrees)\n",
        "    GET: rotation matrix\n",
        "    \"\"\"\n",
        "    θ *= np.pi/180\n",
        "    return np.array([ [np.cos(θ), -np.sin(θ), 0.], [np.sin(θ), np.cos(θ), 0.], [0., 0., 1.]])\n",
        "\n",
        "def projection(basis, f_in):\n",
        "    f_1 = np.dot( basis[0], f_in ) * basis[0]\n",
        "    f_2 = np.dot( basis[1], f_in ) * basis[1]\n",
        "    f_3 = np.dot( basis[2], f_in ) * basis[2]\n",
        "    return [f_1, f_2, f_3]\n",
        "\n",
        "def Ramp(θ, μS, μK, f_in):\n",
        "\n",
        "    basis = (rotation_xy(θ) @ np.eye(3)).T\n",
        "\n",
        "    f_fric, f_normal, f_z = projection(basis, -f_in)\n",
        "\n",
        "    if np.linalg.norm(f_fric) <= np.linalg.norm( μS * f_normal ):\n",
        "        None\n",
        "    if np.linalg.norm(f_fric) > np.linalg.norm( μS * f_normal ):\n",
        "        f_fric = np.linalg.norm(μK * f_normal) * f_fric / np.linalg.norm(f_fric)\n",
        "\n",
        "    return f_normal + f_fric + f_z"
      ],
      "metadata": {
        "id": "i75bV7R5yvpd"
      },
      "execution_count": 3,
      "outputs": []
    },
    {
      "cell_type": "markdown",
      "source": [
        "#  <font color='Red'> **Experiment 1: Familiarization with Definitions.** </font>"
      ],
      "metadata": {
        "id": "piiO7Qo1xXWF"
      }
    },
    {
      "cell_type": "markdown",
      "source": [
        "###  <font color='Red'> The Rotation Matrix, print the rotation matrix for 3 angles of your choosing (note the defintion requires the angle in degrees). </font>"
      ],
      "metadata": {
        "id": "NHH-pCzhxfiq"
      }
    },
    {
      "cell_type": "code",
      "source": [
        "print( rotation_xy(2) )\n",
        "print( rotation_xy(20) )\n",
        "print( rotation_xy(87) )"
      ],
      "metadata": {
        "colab": {
          "base_uri": "https://localhost:8080/"
        },
        "id": "xSGSojYqxxii",
        "outputId": "1ef8555a-e8ed-4b10-cf6a-bdecf710fc91"
      },
      "execution_count": 4,
      "outputs": [
        {
          "output_type": "stream",
          "name": "stdout",
          "text": [
            "[[ 0.9994 -0.0349  0.    ]\n",
            " [ 0.0349  0.9994  0.    ]\n",
            " [ 0.      0.      1.    ]]\n",
            "[[ 0.9397 -0.342   0.    ]\n",
            " [ 0.342   0.9397  0.    ]\n",
            " [ 0.      0.      1.    ]]\n",
            "[[ 0.0523 -0.9986  0.    ]\n",
            " [ 0.9986  0.0523  0.    ]\n",
            " [ 0.      0.      1.    ]]\n"
          ]
        }
      ]
    },
    {
      "cell_type": "markdown",
      "source": [
        "###  <font color='Red'> Choose a rotation matrix from above, to rotate the usual Cartesian Basis (i.e. (Rotation_Matrix @ np.eye(3)).T ) and print the result. </font>"
      ],
      "metadata": {
        "id": "pnJxjBS-x7Gx"
      }
    },
    {
      "cell_type": "code",
      "source": [
        "basis = (rotation_xy(74) @ np.eye(3)).T\n",
        "print( basis )"
      ],
      "metadata": {
        "colab": {
          "base_uri": "https://localhost:8080/"
        },
        "id": "j05li8Rkx_oI",
        "outputId": "f734997b-8f1d-4a3a-de13-731a296cfae4"
      },
      "execution_count": 5,
      "outputs": [
        {
          "output_type": "stream",
          "name": "stdout",
          "text": [
            "[[ 0.2756  0.9613  0.    ]\n",
            " [-0.9613  0.2756  0.    ]\n",
            " [ 0.      0.      1.    ]]\n"
          ]
        }
      ]
    },
    {
      "cell_type": "markdown",
      "source": [
        "###  <font color='Red'> Define an arbitrary acting force vector (3 component vector). </font>"
      ],
      "metadata": {
        "id": "EDm0IaqgzpF9"
      }
    },
    {
      "cell_type": "code",
      "source": [
        "f_in  = array([0., -9.8, 0.])\n",
        "print(f_in)"
      ],
      "metadata": {
        "colab": {
          "base_uri": "https://localhost:8080/"
        },
        "id": "W_qbGE77zw3H",
        "outputId": "f1bbcb31-07d0-4230-dd82-d4b5047dbbfb"
      },
      "execution_count": 6,
      "outputs": [
        {
          "output_type": "stream",
          "name": "stdout",
          "text": [
            "[ 0.  -9.8  0. ]\n"
          ]
        }
      ]
    },
    {
      "cell_type": "markdown",
      "source": [
        "###  <font color='Red'> Use Newton's 3rd Law to get a Reacting force (tentative. </font>"
      ],
      "metadata": {
        "id": "kQpRqiduz7a7"
      }
    },
    {
      "cell_type": "code",
      "source": [
        "f_react = -f_in\n",
        "print(f_react)"
      ],
      "metadata": {
        "colab": {
          "base_uri": "https://localhost:8080/"
        },
        "id": "iJJf9si10Dlv",
        "outputId": "04c43fc6-e892-4f3c-e34b-d24f8952335a"
      },
      "execution_count": 7,
      "outputs": [
        {
          "output_type": "stream",
          "name": "stdout",
          "text": [
            "[-0.   9.8 -0. ]\n"
          ]
        }
      ]
    },
    {
      "cell_type": "markdown",
      "source": [
        "###  <font color='Red'> Project an arbitrary force vector, i.e. decompose into 3 vectors, e.g. f_in, on the new basis defined above. </font>"
      ],
      "metadata": {
        "id": "LgL-tHtxyjQX"
      }
    },
    {
      "cell_type": "code",
      "source": [
        "f_fric, f_normal, f_z = projection(basis, f_react)"
      ],
      "metadata": {
        "id": "8AR946mQy0wJ"
      },
      "execution_count": 8,
      "outputs": []
    },
    {
      "cell_type": "markdown",
      "source": [
        "###  <font color='Red'> Filter the frictional-projection. 1st, define the static friction coefficient (μS) and then the kinetic friction coefficient (μK). 2nd, define two if-statements to determine if friction component of the force above should be the static XOR kinetic one. </font>"
      ],
      "metadata": {
        "id": "-Sj4i1qazBEJ"
      }
    },
    {
      "cell_type": "code",
      "source": [
        "μS = 1.0\n",
        "μK = 0.5\n",
        "\n",
        "if norm(f_fric) <= norm( μS * f_normal ): ## f_2\n",
        "    None\n",
        "if norm(f_fric) > norm( μS * f_normal ):\n",
        "    f_2 = norm(μK * f_normal) * f_fric"
      ],
      "metadata": {
        "id": "fGkKdIT0zXm_"
      },
      "execution_count": 9,
      "outputs": []
    },
    {
      "cell_type": "markdown",
      "source": [
        "###  <font color='Red'> Now determine the total force: f_in = -f_out $\\rightarrow$ f_in + f_out = f_net. e.g. in the static limit f_net = 0. Print this net force. </font>"
      ],
      "metadata": {
        "id": "tvUZ5ZCA06hS"
      }
    },
    {
      "cell_type": "code",
      "source": [
        "net_force = f_fric + f_normal + f_z + f_in\n",
        "\n",
        "print(\"Net Force is %4.3f N\" %(norm(net_force) ) )"
      ],
      "metadata": {
        "colab": {
          "base_uri": "https://localhost:8080/"
        },
        "id": "wOMeZyRu06tn",
        "outputId": "40c9af0d-9a0b-410b-bfc6-85c9648837ab"
      },
      "execution_count": 10,
      "outputs": [
        {
          "output_type": "stream",
          "name": "stdout",
          "text": [
            "Net Force is 0.000 N\n"
          ]
        }
      ]
    },
    {
      "cell_type": "markdown",
      "source": [
        "###  <font color='Red'> Now use: Ramp(θ, μS, μK, f_in), to get the reactive force (f_out), with your choice of angle (θ), static friction coefficient (μS), kinetic friction coefficient (μK), and the f_in you defined above.\n",
        "\n",
        "### Add this to f_in, do the results match from above? </font>"
      ],
      "metadata": {
        "id": "l6EDJkQo1q5v"
      }
    },
    {
      "cell_type": "code",
      "source": [
        "print(\"Net Force is %4.3f N\" %( norm( Ramp(45, μS, μK, f_in) + f_in ) ) )"
      ],
      "metadata": {
        "colab": {
          "base_uri": "https://localhost:8080/"
        },
        "id": "d6hi8Khu1-78",
        "outputId": "05cd99c4-e532-48dc-823c-0800dcddfd68"
      },
      "execution_count": 11,
      "outputs": [
        {
          "output_type": "stream",
          "name": "stdout",
          "text": [
            "Net Force is 0.000 N\n"
          ]
        }
      ]
    },
    {
      "cell_type": "markdown",
      "source": [
        "#  <font color='Red'> **Experiment 2: Varying Angle.** </font>"
      ],
      "metadata": {
        "id": "hwDP78Scmd_w"
      }
    },
    {
      "cell_type": "markdown",
      "source": [
        "###  <font color='Red'> Define the range of angles you wish to test (using arange). </font>"
      ],
      "metadata": {
        "id": "IZ-ebOTP1hhJ"
      }
    },
    {
      "cell_type": "code",
      "source": [
        "θs = arange(0,90,0.1) ## range of angles you wish to test"
      ],
      "metadata": {
        "id": "KaQyZZW7699F"
      },
      "execution_count": 12,
      "outputs": []
    },
    {
      "cell_type": "markdown",
      "source": [
        "###  <font color='Red'> Define a for-loop over these values. And get the force-magnitude for every value in the angle array defined above. Fix the value of the static friction, set kinetic friction to 0. Free feel to use the Ramp method. </font>"
      ],
      "metadata": {
        "id": "ZZpj8AvY2kaH"
      }
    },
    {
      "cell_type": "code",
      "source": [
        "f  = zeros(len(θs)) ## create an empty array to fill-in later of length θs\n",
        "for i in range(len(θs)): ## for-loop over all configurations, e.g. array θs\n",
        "    f[i] = norm( Ramp(θs[i], 1., 0.0, f_in) + f_in ) ## compute the net-force given the i-th θs configuration"
      ],
      "metadata": {
        "id": "5f5e6qWr2jDZ"
      },
      "execution_count": 13,
      "outputs": []
    },
    {
      "cell_type": "markdown",
      "source": [
        "###  <font color='Red'> Plot your Results, make sure to leave a caption describing the physics of the graph. </font>"
      ],
      "metadata": {
        "id": "wMS5-GRG2_2F"
      }
    },
    {
      "cell_type": "code",
      "source": [
        "plt.plot(θs, f)\n",
        "plt.xlabel(\"Angle (degrees)\")\n",
        "plt.ylabel(\"Acceleration (m/s/s)\")\n",
        "plt.show()"
      ],
      "metadata": {
        "colab": {
          "base_uri": "https://localhost:8080/",
          "height": 449
        },
        "id": "9hsaJ23t3HI0",
        "outputId": "f009d4a7-4142-4558-a668-d73ecb7da7ed"
      },
      "execution_count": 14,
      "outputs": [
        {
          "output_type": "display_data",
          "data": {
            "text/plain": [
              "<Figure size 640x480 with 1 Axes>"
            ],
            "image/png": "[encoded data removed]"
          },
          "metadata": {}
        }
      ]
    },
    {
      "cell_type": "markdown",
      "source": [
        "In the above graph we see acceleration as a function of an angle, theta, in degrees. We see a constant zero acceleration up to the angle of 45 degrees. At 45 degrees the acceleration jumps to 7m/s^2 and increases like a square root function."
      ],
      "metadata": {
        "id": "f-qSQGfG6Goq"
      }
    },
    {
      "cell_type": "markdown",
      "source": [
        "#  <font color='Red'> **Experiment 3: Varying Static Friction Coefficient.** </font>"
      ],
      "metadata": {
        "id": "Za3Wu910wRuE"
      }
    },
    {
      "cell_type": "markdown",
      "source": [
        "###  <font color='Red'> Define the range of static-friction-coefficients you wish to test (using arange). </font>"
      ],
      "metadata": {
        "id": "FDwl9oGj3ezN"
      }
    },
    {
      "cell_type": "code",
      "source": [
        "μs = arange(0,5,0.1) ## range of static friction coefficients you wish to test"
      ],
      "metadata": {
        "id": "ZZ7yeJZT3is6"
      },
      "execution_count": 15,
      "outputs": []
    },
    {
      "cell_type": "markdown",
      "source": [
        "###  <font color='Red'> Define a for-loop over these values. And get the force-magnitude for every value in the static-friction-coefficient array defined above. Fix the value of the angle, and set kinetic friction to 0. Free feel to use the Ramp method. </font>"
      ],
      "metadata": {
        "id": "W0oXCQNx3mVu"
      }
    },
    {
      "cell_type": "code",
      "source": [
        "f  = zeros(len(μs)) ## create an empty array to fill-in later of length μs\n",
        "for i in range(len(μs)): ## for-loop over all configurations, e.g. array μs\n",
        "    f[i] = norm( Ramp(45, μs[i], 0.0, f_in) + f_in ) ## compute the net-force given the i-th μs configuration"
      ],
      "metadata": {
        "id": "pE16JEdD_U1o"
      },
      "execution_count": 16,
      "outputs": []
    },
    {
      "cell_type": "markdown",
      "source": [
        "###  <font color='Red'> Plot your Results, make sure to leave a caption describing the physics of the graph. </font>"
      ],
      "metadata": {
        "id": "XDUlA93g3vxg"
      }
    },
    {
      "cell_type": "code",
      "source": [
        "plt.plot(μs, f)\n",
        "plt.xlabel(\"Static Friction Coefficient\")\n",
        "plt.ylabel(\"Acceleration (m/s/s)\")\n",
        "plt.show()"
      ],
      "metadata": {
        "colab": {
          "base_uri": "https://localhost:8080/",
          "height": 449
        },
        "id": "DU-hVoF43uoj",
        "outputId": "938b4467-c7f8-4202-adf2-7cf89ef22eef"
      },
      "execution_count": 17,
      "outputs": [
        {
          "output_type": "display_data",
          "data": {
            "text/plain": [
              "<Figure size 640x480 with 1 Axes>"
            ],
            "image/png": "[encoded data removed]"
          },
          "metadata": {}
        }
      ]
    },
    {
      "cell_type": "markdown",
      "source": [
        "In the above graph we see acceleration plotted against static friction coefficient. We see acceleration of 7 when there is a static friction coefficient from 0 to 1. We see no acceleration thereafter. The physics of this graph does not make much sense to me. I would expect static friction plotted against acceleration to increase linearly up to the point at which static friction is overcome, then would drop to 0. If kinetic friction were to be included on the same graph, instead of dropping to 0 the kinetic friction would take effect at a constant acceleration or force acting in the direction opposing motion."
      ],
      "metadata": {
        "id": "gwHDGEOh6D9Z"
      }
    },
    {
      "cell_type": "markdown",
      "source": [
        "#  <font color='Red'> **Experiment 4: Kinetic Friction and Dynamics.** </font>\n",
        "\n",
        "###  <font color='Red'> Lets consider kinematics as discussed before, using the familiar Velocity-Verlet algorithm. </font>"
      ],
      "metadata": {
        "id": "nwpCIOMQ1XBR"
      }
    },
    {
      "cell_type": "markdown",
      "source": [
        "###  <font color='Red'> Define the following 9 variables (similar to lab 2):\n",
        "*   Time Resolution (dt)\n",
        "*   Time-array\n",
        "*   Mass of your particle\n",
        "*   Initial Position (x0)\n",
        "*   Initial Velocity set to zeros (v0 = np.zeros(3))\n",
        "*   Initial Acceleration set to zeros (v0 = np.zeros(3))\n",
        "*   Angle (θ)\n",
        "*   Static Friction Coefficient (μs)\n",
        "*   Static Friction Coefficient (μk)\n",
        " </font>"
      ],
      "metadata": {
        "id": "fIlCZ3Bw4JNq"
      }
    },
    {
      "cell_type": "code",
      "source": [
        "θ  = 60   ## initial angle\n",
        "μs = 1.30 ## static-friction coefficient\n",
        "μk = 1.8  ## kinetic-friction coefficient\n",
        "\n",
        "dt = 0.1 ## s  : detector/sim time resolution\n",
        "mass = 2 ## kg : mass of particle\n",
        "g = 10   ## m/s/s\n",
        "x0 = array([0.,  10. , 0.]) ## m  : initial position\n",
        "v0 = array([ 0.,  0. , 0.]) ## m/s: initial velocity\n",
        "a0 = array([ 0., -1., 0.]) * mass * g ## m/s/s: initial acceleration\n",
        "\n",
        "time = arange(0, 3, dt) ## s : time array (array containing all moments in time)"
      ],
      "metadata": {
        "id": "tV1MJKZR45fj"
      },
      "execution_count": 18,
      "outputs": []
    },
    {
      "cell_type": "markdown",
      "source": [
        "###  <font color='Red'> Define an acting force on this particle acting for all times, e.g. the force of gravity (it can be any force), i.e. f_t a 2D array, the same shape of the force defined in lab 2.  </font>"
      ],
      "metadata": {
        "id": "WpVramLp4ld0"
      }
    },
    {
      "cell_type": "code",
      "source": [
        "f_t_act = zeros((len(time), 3 )) ## empty force-trajectory array\n",
        "f_t_act[:,1] = -1. * mass * g  ## fill-in all 1-axis ('y'-axis) entries to -mg."
      ],
      "metadata": {
        "id": "OaRGAfd844Ti"
      },
      "execution_count": 19,
      "outputs": []
    },
    {
      "cell_type": "markdown",
      "source": [
        "###  <font color='Red'> Define your Velocity Verlet, but with the new Force acting-reacting force term! To get the trajectory (for position, velocity, and acceleration)  </font>"
      ],
      "metadata": {
        "id": "H7AXQYtP5rKs"
      }
    },
    {
      "cell_type": "code",
      "source": [
        "x_t = zeros((len(time), 3)) ## initialize position-trajectory (position vectors for all times, i.e. len(T))\n",
        "v_t = zeros((len(time), 3)) ## initialize velocity-trajectory (velocity vectors for all times)\n",
        "a_t = zeros((len(time), 3)) ## initialize acceleration-trajectory (acceleration vectors for all times)\n",
        "\n",
        "x_t[0] = x0 ## initialize the 0th position-trajectory entry to the initial-position\n",
        "v_t[0] = v0 ## initialize the 0th velocity-trajectory entry to the initial-velocity\n",
        "a_t[0] = (Ramp(θ, μs, μk, f_t_act[0]) + f_t_act[0] )/mass\n",
        "\n",
        "for t in range(1,len(time)): ## iteratively run algorithm for all entries (for all time, excluding time 0)\n",
        "    x_t[t] = x_t[t-1] + v_t[t-1] * dt + a_t[t-1] * dt*dt/2 ## Velocity-Verlet Step 1 : find new position from old data\n",
        "    a_t[t] = (Ramp(θ, μs, μk, f_t_act[t]) + f_t_act[t] )/mass ## compute new acceleration from the net-force\n",
        "    v_t[t] = v_t[t-1] + (a_t[t-1] + a_t[t]) * dt/2 ## compute new velocity"
      ],
      "metadata": {
        "id": "WtJsLt0r5yHi"
      },
      "execution_count": 20,
      "outputs": []
    },
    {
      "cell_type": "markdown",
      "source": [
        "###  <font color='Red'> Plot your Results, make sure to leave a caption describing the physics of the graph. </font>"
      ],
      "metadata": {
        "id": "6V34e3DM55WR"
      }
    },
    {
      "cell_type": "code",
      "source": [
        "fig, (ax1, ax2, ax3) = plt.subplots(1, 3)\n",
        "fig.suptitle('Experiment 4')\n",
        "fig.subplots_adjust(hspace=0.01, wspace=0.25, right=2)\n",
        "\n",
        "ax1.scatter(time, x_t[:,1])\n",
        "ax1.set_title(\"Position\")\n",
        "ax1.set(xlabel='time (s)', ylabel='Position (m)')\n",
        "\n",
        "#ax2.scatter(time, v_t[:,1])\n",
        "ax2.scatter(time, norm(v_t, axis=1))\n",
        "ax2.set_title(\"Velocity\")\n",
        "ax2.set(xlabel='time (s)', ylabel='Velocity (m/s)')\n",
        "\n",
        "ax3.scatter(time, a_t[:,1], label=\"Acceleration\")\n",
        "ax3.legend(loc=\"upper right\")\n",
        "ax3.set_title(\"Acceleration\")\n",
        "ax3.set(xlabel='time (s)', ylabel='Acceleration (m/s/s)')\n",
        "\n",
        "fig.show()"
      ],
      "metadata": {
        "colab": {
          "base_uri": "https://localhost:8080/",
          "height": 497
        },
        "id": "KsYjE9ko55dQ",
        "outputId": "9e044536-cc9e-49a6-8f2c-2453cd401e45"
      },
      "execution_count": 21,
      "outputs": [
        {
          "output_type": "display_data",
          "data": {
            "text/plain": [
              "<Figure size 640x480 with 3 Axes>"
            ],
            "image/png": "[encoded data removed]"
          },
          "metadata": {}
        }
      ]
    },
    {
      "cell_type": "markdown",
      "source": [
        "In the above plots we see constant acceleration with respect to time. With constant, non-zero acceleration, we have linear velocity with respect to time. Finally, we see a quadratic position with respect to time. Since there is kinetic friction involved in this experiment, we expect that this friction will reduce the acceleration, which will reduce the overall slope of the velocity and slow the change in position with respect to time. Clearly, there is enough force, and the angle of the ramp is steep enough to overcome the force of static friction, as seen through net positive acceleration and motion of the object."
      ],
      "metadata": {
        "id": "rW4I7dNH6DJ8"
      }
    },
    {
      "cell_type": "markdown",
      "source": [
        "#  <font color='Red'> **Conclusion:** </font>\n",
        "\n",
        "###  <font color='Red'> Write your Conclusion here, you may type in word-processor, only to copy-n-paste it here. This .ipynb file is your lab report. </font>\n",
        "\n",
        "###  <font color='Red'> Demonstrate you understand this lab, this is the most imporant part of the lab report worth half of the total points. </font>\n"
      ],
      "metadata": {
        "id": "wT8I5Mzbuh57"
      }
    },
    {
      "cell_type": "markdown",
      "source": [
        "In this lab we see the effects of reactive static and kinetic friction on the motion of an object. We see that for an object to move, the net force on the object must be greater than the force of static friction. The magnitude of the reactive static friction force grows as the force on the object increases, up to the point at which the static friction force is overcome. In this lab the change in the force is due to the manipulation of the angle theta, or the angle of the incline. We see that once an object begins to move, if the movement is on a surface containing friction, the friction force will reduce speed opposite the direction of motion.  Furthermore, we see how the angle of an inclined plane affects the motion of an object, especially when it first starts to move. If the angle of the ramp is lower, it will require a larger force to overcome static friction. If the angle of the ramp is higher, it will require less force to overcome the effects of static friction. However, if the angle is perpendicular to the horizontal, static friction alone would not be enough to hold the object against the wall. For the object to remain stuck to the wall, an additional push force would have to be present. In the opposite case, if the surface is perfectly horizontal, if there is no static friction coefficient, the object still would not move assuming the net forces are in equilibrium (in this case the normal force, and mg would balance)."
      ],
      "metadata": {
        "id": "Eq10Xab463PY"
      }
    },
    {
      "cell_type": "markdown",
      "source": [
        "###  <font color='Red'> If your surface is completely parallel to the gravity-vector $\\mathbf{g}$ (i.e. angle is 90 degrees from horizontal surface), can static friction support the object on this surface? </font>"
      ],
      "metadata": {
        "id": "O7GUBWGNcSry"
      }
    },
    {
      "cell_type": "markdown",
      "source": [
        "see above conclusion."
      ],
      "metadata": {
        "id": "YlfSVXNm8jLT"
      }
    },
    {
      "cell_type": "markdown",
      "source": [
        "###  <font color='Red'> Is there an angle, such that no motion occurs with a static friction coefficient of 0.0? </font>"
      ],
      "metadata": {
        "id": "6zB8fqzX8kly"
      }
    },
    {
      "cell_type": "markdown",
      "source": [
        "see above conclusion."
      ],
      "metadata": {
        "id": "ZINhIKzE7DEf"
      }
    }
  ]
}